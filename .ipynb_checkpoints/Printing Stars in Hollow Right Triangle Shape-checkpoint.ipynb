{
 "cells": [
  {
   "cell_type": "code",
   "execution_count": 6,
   "id": "9ee1dffc",
   "metadata": {
    "ExecuteTime": {
     "end_time": "2023-04-26T06:45:38.169733Z",
     "start_time": "2023-04-26T06:45:35.698528Z"
    }
   },
   "outputs": [
    {
     "name": "stdout",
     "output_type": "stream",
     "text": [
      "enter the number10\n",
      "*         \n",
      "**        \n",
      "* *       \n",
      "*  *      \n",
      "*   *     \n",
      "*    *    \n",
      "*     *   \n",
      "*      *  \n",
      "*       * \n",
      "**********\n"
     ]
    }
   ],
   "source": [
    "n = int(input('enter the number'))\n",
    "\n",
    "for row in range(n):\n",
    "    for col in range(n):\n",
    "        if col == 0 or row == (n-1) or row == col:\n",
    "            print(\"*\", end=\"\")\n",
    "        else:\n",
    "            print(end=\" \")\n",
    "    print()"
   ]
  },
  {
   "cell_type": "code",
   "execution_count": 12,
   "id": "f9cfec09",
   "metadata": {
    "ExecuteTime": {
     "end_time": "2023-04-26T06:51:10.385646Z",
     "start_time": "2023-04-26T06:51:08.140972Z"
    }
   },
   "outputs": [
    {
     "name": "stdout",
     "output_type": "stream",
     "text": [
      "enter the number5\n",
      "@@@@@\n",
      " @  @\n",
      "  @ @\n",
      "   @@\n",
      "    @\n"
     ]
    }
   ],
   "source": [
    "n = int(input('enter the number'))\n",
    "for row in range(n):\n",
    "    for col in range(n):\n",
    "        if row == 0 or col == (n-1) or row == col:\n",
    "            print(\"@\",end='')\n",
    "        else:\n",
    "            print(end=\" \")\n",
    "    print()"
   ]
  },
  {
   "cell_type": "code",
   "execution_count": null,
   "id": "1f006c83",
   "metadata": {},
   "outputs": [],
   "source": []
  }
 ],
 "metadata": {
  "kernelspec": {
   "display_name": "Python 3 (ipykernel)",
   "language": "python",
   "name": "python3"
  },
  "language_info": {
   "codemirror_mode": {
    "name": "ipython",
    "version": 3
   },
   "file_extension": ".py",
   "mimetype": "text/x-python",
   "name": "python",
   "nbconvert_exporter": "python",
   "pygments_lexer": "ipython3",
   "version": "3.9.13"
  },
  "varInspector": {
   "cols": {
    "lenName": 16,
    "lenType": 16,
    "lenVar": 40
   },
   "kernels_config": {
    "python": {
     "delete_cmd_postfix": "",
     "delete_cmd_prefix": "del ",
     "library": "var_list.py",
     "varRefreshCmd": "print(var_dic_list())"
    },
    "r": {
     "delete_cmd_postfix": ") ",
     "delete_cmd_prefix": "rm(",
     "library": "var_list.r",
     "varRefreshCmd": "cat(var_dic_list()) "
    }
   },
   "types_to_exclude": [
    "module",
    "function",
    "builtin_function_or_method",
    "instance",
    "_Feature"
   ],
   "window_display": false
  }
 },
 "nbformat": 4,
 "nbformat_minor": 5
}

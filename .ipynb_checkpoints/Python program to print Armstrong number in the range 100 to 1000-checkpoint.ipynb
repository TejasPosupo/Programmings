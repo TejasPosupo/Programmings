{
 "cells": [
  {
   "cell_type": "code",
   "execution_count": 2,
   "id": "76fcae38",
   "metadata": {
    "ExecuteTime": {
     "end_time": "2023-04-16T05:55:18.657438Z",
     "start_time": "2023-04-16T05:55:18.638420Z"
    }
   },
   "outputs": [
    {
     "name": "stdout",
     "output_type": "stream",
     "text": [
      "154\n",
      "371\n",
      "372\n",
      "408\n"
     ]
    }
   ],
   "source": [
    "for num in range(100, 1000):\n",
    "    \n",
    "    i = num\n",
    "    a = num % 10\n",
    "    num = num //10\n",
    "    b = num % 10\n",
    "    c = num //10\n",
    "    \n",
    "    if (a**3) + (b**3) + (c**3) == i:\n",
    "        i += 1\n",
    "        print(i)"
   ]
  },
  {
   "cell_type": "code",
   "execution_count": null,
   "id": "f8387392",
   "metadata": {},
   "outputs": [],
   "source": []
  }
 ],
 "metadata": {
  "kernelspec": {
   "display_name": "Python 3 (ipykernel)",
   "language": "python",
   "name": "python3"
  },
  "language_info": {
   "codemirror_mode": {
    "name": "ipython",
    "version": 3
   },
   "file_extension": ".py",
   "mimetype": "text/x-python",
   "name": "python",
   "nbconvert_exporter": "python",
   "pygments_lexer": "ipython3",
   "version": "3.9.13"
  },
  "varInspector": {
   "cols": {
    "lenName": 16,
    "lenType": 16,
    "lenVar": 40
   },
   "kernels_config": {
    "python": {
     "delete_cmd_postfix": "",
     "delete_cmd_prefix": "del ",
     "library": "var_list.py",
     "varRefreshCmd": "print(var_dic_list())"
    },
    "r": {
     "delete_cmd_postfix": ") ",
     "delete_cmd_prefix": "rm(",
     "library": "var_list.r",
     "varRefreshCmd": "cat(var_dic_list()) "
    }
   },
   "types_to_exclude": [
    "module",
    "function",
    "builtin_function_or_method",
    "instance",
    "_Feature"
   ],
   "window_display": false
  }
 },
 "nbformat": 4,
 "nbformat_minor": 5
}

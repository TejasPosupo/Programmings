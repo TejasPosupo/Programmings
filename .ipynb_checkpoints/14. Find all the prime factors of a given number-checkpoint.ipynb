{
 "cells": [
  {
   "cell_type": "code",
   "execution_count": 4,
   "id": "8c5c0526",
   "metadata": {
    "ExecuteTime": {
     "end_time": "2023-05-09T06:57:48.379575Z",
     "start_time": "2023-05-09T06:57:45.940917Z"
    }
   },
   "outputs": [
    {
     "name": "stdout",
     "output_type": "stream",
     "text": [
      "40\n",
      "2\n",
      "2\n",
      "2\n",
      "5\n"
     ]
    }
   ],
   "source": [
    "def prime_factors(n):\n",
    "    i = 2\n",
    "    while(n>1):\n",
    "        \n",
    "        while(n%i==0):\n",
    "            print(i)\n",
    "            n = n//i\n",
    "        i = i + 1\n",
    "def main():\n",
    "    n = int(input())\n",
    "    prime_factors(n)\n",
    "if __name__=='__main__':\n",
    "    main()"
   ]
  },
  {
   "cell_type": "code",
   "execution_count": 6,
   "id": "0829c4cf",
   "metadata": {
    "ExecuteTime": {
     "end_time": "2023-05-09T07:22:01.614777Z",
     "start_time": "2023-05-09T07:21:52.338677Z"
    }
   },
   "outputs": [
    {
     "name": "stdout",
     "output_type": "stream",
     "text": [
      "80\n",
      "2\n",
      "2\n",
      "2\n",
      "2\n",
      "5\n"
     ]
    }
   ],
   "source": [
    "import math\n",
    "def prime_factors(n):\n",
    "    i = 2\n",
    "    while(i<=math.sqrt(n)):\n",
    "        \n",
    "        while(n%i==0):\n",
    "            print(i)\n",
    "            n = n//i\n",
    "        i = i + 1\n",
    "    if(n>1):    \n",
    "        print(n)\n",
    "def main():\n",
    "    n = int(input())\n",
    "    prime_factors(n)\n",
    "if __name__=='__main__':\n",
    "    main()"
   ]
  },
  {
   "cell_type": "code",
   "execution_count": null,
   "id": "082db302",
   "metadata": {},
   "outputs": [],
   "source": []
  },
  {
   "cell_type": "code",
   "execution_count": null,
   "id": "7bdc53d0",
   "metadata": {},
   "outputs": [],
   "source": []
  }
 ],
 "metadata": {
  "kernelspec": {
   "display_name": "Python 3 (ipykernel)",
   "language": "python",
   "name": "python3"
  },
  "language_info": {
   "codemirror_mode": {
    "name": "ipython",
    "version": 3
   },
   "file_extension": ".py",
   "mimetype": "text/x-python",
   "name": "python",
   "nbconvert_exporter": "python",
   "pygments_lexer": "ipython3",
   "version": "3.9.13"
  },
  "varInspector": {
   "cols": {
    "lenName": 16,
    "lenType": 16,
    "lenVar": 40
   },
   "kernels_config": {
    "python": {
     "delete_cmd_postfix": "",
     "delete_cmd_prefix": "del ",
     "library": "var_list.py",
     "varRefreshCmd": "print(var_dic_list())"
    },
    "r": {
     "delete_cmd_postfix": ") ",
     "delete_cmd_prefix": "rm(",
     "library": "var_list.r",
     "varRefreshCmd": "cat(var_dic_list()) "
    }
   },
   "types_to_exclude": [
    "module",
    "function",
    "builtin_function_or_method",
    "instance",
    "_Feature"
   ],
   "window_display": false
  }
 },
 "nbformat": 4,
 "nbformat_minor": 5
}

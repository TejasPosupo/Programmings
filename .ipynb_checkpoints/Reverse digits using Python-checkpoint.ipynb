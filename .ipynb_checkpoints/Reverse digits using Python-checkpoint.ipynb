{
 "cells": [
  {
   "cell_type": "code",
   "execution_count": 2,
   "id": "513b5b0a",
   "metadata": {
    "ExecuteTime": {
     "end_time": "2023-04-11T05:43:30.223306Z",
     "start_time": "2023-04-11T05:43:25.648172Z"
    }
   },
   "outputs": [
    {
     "name": "stdout",
     "output_type": "stream",
     "text": [
      "enter the four digit number6789\n",
      "The reversed number is   9876\n"
     ]
    }
   ],
   "source": [
    "user_input = int(input('enter the four digit number'))\n",
    "\n",
    "num = user_input\n",
    "\n",
    "a = num%10\n",
    "num = num//10\n",
    "b = num%10\n",
    "num = num//10\n",
    "c = num%10\n",
    "d = num//10\n",
    "\n",
    "reverse = 1000*a + 100*b +10*c +d\n",
    "\n",
    "print('The reversed number is  ',reverse)\n",
    "\n"
   ]
  },
  {
   "cell_type": "code",
   "execution_count": null,
   "id": "e515fbd6",
   "metadata": {},
   "outputs": [],
   "source": []
  }
 ],
 "metadata": {
  "kernelspec": {
   "display_name": "Python 3 (ipykernel)",
   "language": "python",
   "name": "python3"
  },
  "language_info": {
   "codemirror_mode": {
    "name": "ipython",
    "version": 3
   },
   "file_extension": ".py",
   "mimetype": "text/x-python",
   "name": "python",
   "nbconvert_exporter": "python",
   "pygments_lexer": "ipython3",
   "version": "3.9.13"
  },
  "varInspector": {
   "cols": {
    "lenName": 16,
    "lenType": 16,
    "lenVar": 40
   },
   "kernels_config": {
    "python": {
     "delete_cmd_postfix": "",
     "delete_cmd_prefix": "del ",
     "library": "var_list.py",
     "varRefreshCmd": "print(var_dic_list())"
    },
    "r": {
     "delete_cmd_postfix": ") ",
     "delete_cmd_prefix": "rm(",
     "library": "var_list.r",
     "varRefreshCmd": "cat(var_dic_list()) "
    }
   },
   "types_to_exclude": [
    "module",
    "function",
    "builtin_function_or_method",
    "instance",
    "_Feature"
   ],
   "window_display": false
  }
 },
 "nbformat": 4,
 "nbformat_minor": 5
}

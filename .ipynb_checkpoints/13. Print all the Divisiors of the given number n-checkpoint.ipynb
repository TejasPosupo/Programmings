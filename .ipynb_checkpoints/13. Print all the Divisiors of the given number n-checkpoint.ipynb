{
 "cells": [
  {
   "cell_type": "code",
   "execution_count": 6,
   "id": "f4f73824",
   "metadata": {
    "ExecuteTime": {
     "end_time": "2023-05-08T06:28:32.691753Z",
     "start_time": "2023-05-08T06:28:30.811882Z"
    }
   },
   "outputs": [
    {
     "name": "stdout",
     "output_type": "stream",
     "text": [
      "20\n",
      "1 2 4 5 10 20 None\n"
     ]
    }
   ],
   "source": [
    "def print_divisors(n):\n",
    "    for i in range(1, n+1):\n",
    "        if n % i == 0:\n",
    "            print(i,end=\" \")\n",
    "\n",
    "def main():\n",
    "    n = int(input())\n",
    "    print(print_divisors(n))\n",
    "    \n",
    "if __name__ == '__main__':\n",
    "    main()"
   ]
  },
  {
   "cell_type": "code",
   "execution_count": 11,
   "id": "b75f087d",
   "metadata": {
    "ExecuteTime": {
     "end_time": "2023-05-08T06:41:05.024385Z",
     "start_time": "2023-05-08T06:41:02.881866Z"
    }
   },
   "outputs": [
    {
     "name": "stdout",
     "output_type": "stream",
     "text": [
      "25\n",
      "1\n",
      "5\n",
      "25\n",
      "None\n"
     ]
    }
   ],
   "source": [
    "import math\n",
    "\n",
    "def print_divisors(n):\n",
    "    for i in range(1, int(math.sqrt(n))+1):\n",
    "        if n % i == 0:\n",
    "            print(i)\n",
    "    for i in range(int(math.sqrt(n)), 0, -1):\n",
    "        if n % i == 0 and i!=n//i:\n",
    "                print(n//i)\n",
    "\n",
    "def main():\n",
    "    n = int(input())\n",
    "    print(print_divisors(n))\n",
    "    \n",
    "if __name__ == '__main__':\n",
    "    main()"
   ]
  },
  {
   "cell_type": "code",
   "execution_count": null,
   "id": "092ebd6a",
   "metadata": {},
   "outputs": [],
   "source": []
  }
 ],
 "metadata": {
  "kernelspec": {
   "display_name": "Python 3 (ipykernel)",
   "language": "python",
   "name": "python3"
  },
  "language_info": {
   "codemirror_mode": {
    "name": "ipython",
    "version": 3
   },
   "file_extension": ".py",
   "mimetype": "text/x-python",
   "name": "python",
   "nbconvert_exporter": "python",
   "pygments_lexer": "ipython3",
   "version": "3.9.13"
  },
  "varInspector": {
   "cols": {
    "lenName": 16,
    "lenType": 16,
    "lenVar": 40
   },
   "kernels_config": {
    "python": {
     "delete_cmd_postfix": "",
     "delete_cmd_prefix": "del ",
     "library": "var_list.py",
     "varRefreshCmd": "print(var_dic_list())"
    },
    "r": {
     "delete_cmd_postfix": ") ",
     "delete_cmd_prefix": "rm(",
     "library": "var_list.r",
     "varRefreshCmd": "cat(var_dic_list()) "
    }
   },
   "types_to_exclude": [
    "module",
    "function",
    "builtin_function_or_method",
    "instance",
    "_Feature"
   ],
   "window_display": false
  }
 },
 "nbformat": 4,
 "nbformat_minor": 5
}

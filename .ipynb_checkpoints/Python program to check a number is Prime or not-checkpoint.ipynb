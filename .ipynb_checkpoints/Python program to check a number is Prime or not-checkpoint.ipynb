{
 "cells": [
  {
   "cell_type": "code",
   "execution_count": 15,
   "id": "d8b5c7c8",
   "metadata": {
    "ExecuteTime": {
     "end_time": "2023-04-16T05:40:15.984648Z",
     "start_time": "2023-04-16T05:40:13.771744Z"
    }
   },
   "outputs": [
    {
     "name": "stdout",
     "output_type": "stream",
     "text": [
      "enter the number3\n",
      "is a prime number\n"
     ]
    }
   ],
   "source": [
    "n = int(input('enter the number'))\n",
    "\n",
    "if n == 2:\n",
    "    print(n ,'is a prime number')\n",
    "elif n>1:\n",
    "    for i in range(2,n):\n",
    "        if n%2==0:\n",
    "            print('is not a prime')\n",
    "            break\n",
    "        else:\n",
    "            print('is a prime number')\n",
    "            break\n",
    "else:\n",
    "        print('Is not a prime') "
   ]
  },
  {
   "cell_type": "code",
   "execution_count": null,
   "id": "5bc576ab",
   "metadata": {},
   "outputs": [],
   "source": []
  },
  {
   "cell_type": "markdown",
   "id": "cd312cf3",
   "metadata": {},
   "source": [
    "# "
   ]
  }
 ],
 "metadata": {
  "kernelspec": {
   "display_name": "Python 3 (ipykernel)",
   "language": "python",
   "name": "python3"
  },
  "language_info": {
   "codemirror_mode": {
    "name": "ipython",
    "version": 3
   },
   "file_extension": ".py",
   "mimetype": "text/x-python",
   "name": "python",
   "nbconvert_exporter": "python",
   "pygments_lexer": "ipython3",
   "version": "3.9.13"
  },
  "varInspector": {
   "cols": {
    "lenName": 16,
    "lenType": 16,
    "lenVar": 40
   },
   "kernels_config": {
    "python": {
     "delete_cmd_postfix": "",
     "delete_cmd_prefix": "del ",
     "library": "var_list.py",
     "varRefreshCmd": "print(var_dic_list())"
    },
    "r": {
     "delete_cmd_postfix": ") ",
     "delete_cmd_prefix": "rm(",
     "library": "var_list.r",
     "varRefreshCmd": "cat(var_dic_list()) "
    }
   },
   "types_to_exclude": [
    "module",
    "function",
    "builtin_function_or_method",
    "instance",
    "_Feature"
   ],
   "window_display": false
  }
 },
 "nbformat": 4,
 "nbformat_minor": 5
}

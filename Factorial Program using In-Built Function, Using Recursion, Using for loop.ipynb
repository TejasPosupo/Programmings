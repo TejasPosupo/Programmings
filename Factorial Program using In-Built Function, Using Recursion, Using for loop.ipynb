{
 "cells": [
  {
   "cell_type": "markdown",
   "id": "b9cd3adc",
   "metadata": {},
   "source": [
    "# Finding the factorial program using in built method?"
   ]
  },
  {
   "cell_type": "code",
   "execution_count": 1,
   "id": "b012bfda",
   "metadata": {
    "ExecuteTime": {
     "end_time": "2023-04-27T05:36:48.899975Z",
     "start_time": "2023-04-27T05:36:46.116765Z"
    }
   },
   "outputs": [
    {
     "name": "stdout",
     "output_type": "stream",
     "text": [
      "enter the number5\n",
      "120\n"
     ]
    }
   ],
   "source": [
    "import math\n",
    "n = int(input('enter the number'))\n",
    "result = math.factorial(n)\n",
    "print(result)"
   ]
  },
  {
   "cell_type": "markdown",
   "id": "2959a0d6",
   "metadata": {},
   "source": [
    "# Factorial Program Using Recursion"
   ]
  },
  {
   "cell_type": "code",
   "execution_count": 2,
   "id": "687f588e",
   "metadata": {
    "ExecuteTime": {
     "end_time": "2023-04-27T05:36:51.304628Z",
     "start_time": "2023-04-27T05:36:48.902937Z"
    }
   },
   "outputs": [
    {
     "name": "stdout",
     "output_type": "stream",
     "text": [
      "enter the number5\n",
      "120\n"
     ]
    }
   ],
   "source": [
    "def fact(n):\n",
    "    if n == 0:\n",
    "        return 1\n",
    "    else:\n",
    "        return n * fact(n-1)\n",
    "    \n",
    "n = int(input('enter the number'))\n",
    "\n",
    "result = fact(n)\n",
    "\n",
    "print(result)"
   ]
  },
  {
   "cell_type": "markdown",
   "id": "b8beb0b0",
   "metadata": {},
   "source": [
    "# Factorial Program Using for loop"
   ]
  },
  {
   "cell_type": "code",
   "execution_count": 3,
   "id": "fadde655",
   "metadata": {
    "ExecuteTime": {
     "end_time": "2023-04-27T05:47:23.480134Z",
     "start_time": "2023-04-27T05:47:20.795895Z"
    }
   },
   "outputs": [
    {
     "name": "stdout",
     "output_type": "stream",
     "text": [
      "enter the number5\n",
      "120\n"
     ]
    }
   ],
   "source": [
    "n = int(input('enter the number'))\n",
    "fact = 1\n",
    "for i in range(n,0,-1):\n",
    "    fact = fact*i\n",
    "print(fact)"
   ]
  },
  {
   "cell_type": "code",
   "execution_count": null,
   "id": "d726bdfa",
   "metadata": {},
   "outputs": [],
   "source": []
  }
 ],
 "metadata": {
  "kernelspec": {
   "display_name": "Python 3 (ipykernel)",
   "language": "python",
   "name": "python3"
  },
  "language_info": {
   "codemirror_mode": {
    "name": "ipython",
    "version": 3
   },
   "file_extension": ".py",
   "mimetype": "text/x-python",
   "name": "python",
   "nbconvert_exporter": "python",
   "pygments_lexer": "ipython3",
   "version": "3.9.13"
  },
  "varInspector": {
   "cols": {
    "lenName": 16,
    "lenType": 16,
    "lenVar": 40
   },
   "kernels_config": {
    "python": {
     "delete_cmd_postfix": "",
     "delete_cmd_prefix": "del ",
     "library": "var_list.py",
     "varRefreshCmd": "print(var_dic_list())"
    },
    "r": {
     "delete_cmd_postfix": ") ",
     "delete_cmd_prefix": "rm(",
     "library": "var_list.r",
     "varRefreshCmd": "cat(var_dic_list()) "
    }
   },
   "types_to_exclude": [
    "module",
    "function",
    "builtin_function_or_method",
    "instance",
    "_Feature"
   ],
   "window_display": false
  }
 },
 "nbformat": 4,
 "nbformat_minor": 5
}

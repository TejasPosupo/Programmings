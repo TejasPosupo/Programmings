{
 "cells": [
  {
   "cell_type": "code",
   "execution_count": 1,
   "id": "958f538b",
   "metadata": {
    "ExecuteTime": {
     "end_time": "2023-04-13T06:37:35.563897Z",
     "start_time": "2023-04-13T06:37:19.962098Z"
    }
   },
   "outputs": [
    {
     "name": "stdout",
     "output_type": "stream",
     "text": [
      "enter the cost price: 56\n",
      "enter the selling price: 45\n",
      "loss: 11\n"
     ]
    }
   ],
   "source": [
    "cp = int(input('enter the cost price: '))\n",
    "sp = int(input('enter the selling price: '))\n",
    "\n",
    "if cp > sp:\n",
    "    amount = cp - sp\n",
    "    print('loss:', amount)\n",
    "else:\n",
    "    amount = sp - cp\n",
    "    print('profit:', amount)"
   ]
  },
  {
   "cell_type": "code",
   "execution_count": null,
   "id": "6d43c271",
   "metadata": {},
   "outputs": [],
   "source": []
  }
 ],
 "metadata": {
  "kernelspec": {
   "display_name": "Python 3 (ipykernel)",
   "language": "python",
   "name": "python3"
  },
  "language_info": {
   "codemirror_mode": {
    "name": "ipython",
    "version": 3
   },
   "file_extension": ".py",
   "mimetype": "text/x-python",
   "name": "python",
   "nbconvert_exporter": "python",
   "pygments_lexer": "ipython3",
   "version": "3.9.13"
  },
  "varInspector": {
   "cols": {
    "lenName": 16,
    "lenType": 16,
    "lenVar": 40
   },
   "kernels_config": {
    "python": {
     "delete_cmd_postfix": "",
     "delete_cmd_prefix": "del ",
     "library": "var_list.py",
     "varRefreshCmd": "print(var_dic_list())"
    },
    "r": {
     "delete_cmd_postfix": ") ",
     "delete_cmd_prefix": "rm(",
     "library": "var_list.r",
     "varRefreshCmd": "cat(var_dic_list()) "
    }
   },
   "types_to_exclude": [
    "module",
    "function",
    "builtin_function_or_method",
    "instance",
    "_Feature"
   ],
   "window_display": false
  }
 },
 "nbformat": 4,
 "nbformat_minor": 5
}

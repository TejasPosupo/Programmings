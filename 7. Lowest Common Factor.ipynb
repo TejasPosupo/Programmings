{
 "cells": [
  {
   "cell_type": "code",
   "execution_count": 1,
   "id": "886781a7",
   "metadata": {
    "ExecuteTime": {
     "end_time": "2023-05-06T06:13:18.321225Z",
     "start_time": "2023-05-06T06:13:06.732778Z"
    }
   },
   "outputs": [
    {
     "name": "stdout",
     "output_type": "stream",
     "text": [
      "7\n",
      "3\n",
      "21\n"
     ]
    }
   ],
   "source": [
    "def lcm(a,b):\n",
    "    res = max(a,b)\n",
    "    while(True):\n",
    "        if(res%a==0 and res%b==0):\n",
    "            break\n",
    "        res += 1\n",
    "    return res\n",
    "def main():\n",
    "    a = int(input())\n",
    "    b = int(input())\n",
    "    print(lcm(a,b))\n",
    "\n",
    "if __name__=='__main__':\n",
    "    main()"
   ]
  },
  {
   "cell_type": "code",
   "execution_count": null,
   "id": "bae949a9",
   "metadata": {},
   "outputs": [],
   "source": []
  }
 ],
 "metadata": {
  "kernelspec": {
   "display_name": "Python 3 (ipykernel)",
   "language": "python",
   "name": "python3"
  },
  "language_info": {
   "codemirror_mode": {
    "name": "ipython",
    "version": 3
   },
   "file_extension": ".py",
   "mimetype": "text/x-python",
   "name": "python",
   "nbconvert_exporter": "python",
   "pygments_lexer": "ipython3",
   "version": "3.9.13"
  },
  "varInspector": {
   "cols": {
    "lenName": 16,
    "lenType": 16,
    "lenVar": 40
   },
   "kernels_config": {
    "python": {
     "delete_cmd_postfix": "",
     "delete_cmd_prefix": "del ",
     "library": "var_list.py",
     "varRefreshCmd": "print(var_dic_list())"
    },
    "r": {
     "delete_cmd_postfix": ") ",
     "delete_cmd_prefix": "rm(",
     "library": "var_list.r",
     "varRefreshCmd": "cat(var_dic_list()) "
    }
   },
   "types_to_exclude": [
    "module",
    "function",
    "builtin_function_or_method",
    "instance",
    "_Feature"
   ],
   "window_display": false
  }
 },
 "nbformat": 4,
 "nbformat_minor": 5
}

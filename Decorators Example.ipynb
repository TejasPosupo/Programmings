{
 "cells": [
  {
   "cell_type": "code",
   "execution_count": 7,
   "id": "45d9346e",
   "metadata": {
    "ExecuteTime": {
     "end_time": "2023-04-17T06:33:27.009268Z",
     "start_time": "2023-04-17T06:33:26.987268Z"
    }
   },
   "outputs": [
    {
     "name": "stdout",
     "output_type": "stream",
     "text": [
      "14400\n"
     ]
    }
   ],
   "source": [
    "def power_of(ref):\n",
    "    def wrapper(lst):\n",
    "        lst = list(map(lambda x: x**2, lst))\n",
    "        ref(lst)\n",
    "    return wrapper\n",
    "\n",
    "def get_product(lst):\n",
    "    p = 1\n",
    "    for i in lst:\n",
    "        p *= i\n",
    "    print(p)\n",
    "    \n",
    "mod_get_product = power_of(get_product)\n",
    "mod_get_product([1, 2, 3, 4, 5])"
   ]
  },
  {
   "cell_type": "code",
   "execution_count": 8,
   "id": "77e7d051",
   "metadata": {
    "ExecuteTime": {
     "end_time": "2023-04-17T06:34:56.908004Z",
     "start_time": "2023-04-17T06:34:56.886003Z"
    }
   },
   "outputs": [
    {
     "name": "stdout",
     "output_type": "stream",
     "text": [
      "14400\n"
     ]
    }
   ],
   "source": [
    "def power_of(ref):\n",
    "    def wrapper(lst):\n",
    "        lst = list(map(lambda x: x**2, lst))\n",
    "        ref(lst)\n",
    "    return wrapper\n",
    "@power_of\n",
    "def get_product(lst):\n",
    "    p = 1\n",
    "    for i in lst:\n",
    "        p *= i\n",
    "    print(p)\n",
    "get_product([1, 2, 3, 4, 5])"
   ]
  },
  {
   "cell_type": "code",
   "execution_count": 12,
   "id": "b15f5feb",
   "metadata": {
    "ExecuteTime": {
     "end_time": "2023-04-17T06:51:02.092606Z",
     "start_time": "2023-04-17T06:51:02.078606Z"
    }
   },
   "outputs": [
    {
     "name": "stdout",
     "output_type": "stream",
     "text": [
      "14400\n"
     ]
    }
   ],
   "source": [
    "def decorator(num):\n",
    "    def power_of(ref):\n",
    "        def wrapper(lst):\n",
    "            lst = list(map(lambda x: x**num, lst))\n",
    "            ref(lst)\n",
    "        return wrapper\n",
    "    return power_of\n",
    "\n",
    "@decorator(2)\n",
    "def get_product(lst):\n",
    "    p = 1\n",
    "    for i in lst:\n",
    "        p *= i\n",
    "    print(p)\n",
    "\n",
    "get_product([1, 2, 3, 4, 5])\n",
    "#fun1 = decorator(2)\n",
    "#mod_get_product = fun1(get_product)\n",
    "#mod_get_product([1, 2, 3, 4, 5])\n"
   ]
  },
  {
   "cell_type": "code",
   "execution_count": null,
   "id": "e756b67b",
   "metadata": {},
   "outputs": [],
   "source": []
  }
 ],
 "metadata": {
  "kernelspec": {
   "display_name": "Python 3 (ipykernel)",
   "language": "python",
   "name": "python3"
  },
  "language_info": {
   "codemirror_mode": {
    "name": "ipython",
    "version": 3
   },
   "file_extension": ".py",
   "mimetype": "text/x-python",
   "name": "python",
   "nbconvert_exporter": "python",
   "pygments_lexer": "ipython3",
   "version": "3.9.13"
  },
  "varInspector": {
   "cols": {
    "lenName": 16,
    "lenType": 16,
    "lenVar": 40
   },
   "kernels_config": {
    "python": {
     "delete_cmd_postfix": "",
     "delete_cmd_prefix": "del ",
     "library": "var_list.py",
     "varRefreshCmd": "print(var_dic_list())"
    },
    "r": {
     "delete_cmd_postfix": ") ",
     "delete_cmd_prefix": "rm(",
     "library": "var_list.r",
     "varRefreshCmd": "cat(var_dic_list()) "
    }
   },
   "types_to_exclude": [
    "module",
    "function",
    "builtin_function_or_method",
    "instance",
    "_Feature"
   ],
   "window_display": false
  }
 },
 "nbformat": 4,
 "nbformat_minor": 5
}

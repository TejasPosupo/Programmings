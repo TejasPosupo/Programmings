{
 "cells": [
  {
   "cell_type": "code",
   "execution_count": 1,
   "id": "5dbd0933",
   "metadata": {
    "ExecuteTime": {
     "end_time": "2023-04-15T04:43:26.938098Z",
     "start_time": "2023-04-15T04:43:23.832481Z"
    }
   },
   "outputs": [
    {
     "name": "stdout",
     "output_type": "stream",
     "text": [
      "enter the three digit number234\n",
      "29\n"
     ]
    }
   ],
   "source": [
    "num = int(input('enter the three digit number'))\n",
    "\n",
    "a = num % 10\n",
    "\n",
    "num = num // 10\n",
    "\n",
    "b = num % 10 \n",
    "\n",
    "c = num // 10 \n",
    "\n",
    "print((a**2) + (b**2) + (c**2))"
   ]
  },
  {
   "cell_type": "code",
   "execution_count": null,
   "id": "daa5c784",
   "metadata": {},
   "outputs": [],
   "source": []
  }
 ],
 "metadata": {
  "kernelspec": {
   "display_name": "Python 3 (ipykernel)",
   "language": "python",
   "name": "python3"
  },
  "language_info": {
   "codemirror_mode": {
    "name": "ipython",
    "version": 3
   },
   "file_extension": ".py",
   "mimetype": "text/x-python",
   "name": "python",
   "nbconvert_exporter": "python",
   "pygments_lexer": "ipython3",
   "version": "3.9.13"
  },
  "varInspector": {
   "cols": {
    "lenName": 16,
    "lenType": 16,
    "lenVar": 40
   },
   "kernels_config": {
    "python": {
     "delete_cmd_postfix": "",
     "delete_cmd_prefix": "del ",
     "library": "var_list.py",
     "varRefreshCmd": "print(var_dic_list())"
    },
    "r": {
     "delete_cmd_postfix": ") ",
     "delete_cmd_prefix": "rm(",
     "library": "var_list.r",
     "varRefreshCmd": "cat(var_dic_list()) "
    }
   },
   "types_to_exclude": [
    "module",
    "function",
    "builtin_function_or_method",
    "instance",
    "_Feature"
   ],
   "window_display": false
  }
 },
 "nbformat": 4,
 "nbformat_minor": 5
}

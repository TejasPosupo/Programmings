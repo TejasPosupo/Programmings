{
 "cells": [
  {
   "cell_type": "code",
   "execution_count": 1,
   "id": "0ab633e4",
   "metadata": {
    "ExecuteTime": {
     "end_time": "2023-04-11T05:01:33.402852Z",
     "start_time": "2023-04-11T05:01:24.759342Z"
    }
   },
   "outputs": [
    {
     "name": "stdout",
     "output_type": "stream",
     "text": [
      "enter the temperature78\n",
      "172.4\n"
     ]
    }
   ],
   "source": [
    "temp = float(input('enter the temperature'))\n",
    "faheriheit = (temp*1.8)+32\n",
    "print(faheriheit)"
   ]
  },
  {
   "cell_type": "code",
   "execution_count": null,
   "id": "778c4804",
   "metadata": {},
   "outputs": [],
   "source": []
  }
 ],
 "metadata": {
  "kernelspec": {
   "display_name": "Python 3 (ipykernel)",
   "language": "python",
   "name": "python3"
  },
  "language_info": {
   "codemirror_mode": {
    "name": "ipython",
    "version": 3
   },
   "file_extension": ".py",
   "mimetype": "text/x-python",
   "name": "python",
   "nbconvert_exporter": "python",
   "pygments_lexer": "ipython3",
   "version": "3.9.13"
  },
  "varInspector": {
   "cols": {
    "lenName": 16,
    "lenType": 16,
    "lenVar": 40
   },
   "kernels_config": {
    "python": {
     "delete_cmd_postfix": "",
     "delete_cmd_prefix": "del ",
     "library": "var_list.py",
     "varRefreshCmd": "print(var_dic_list())"
    },
    "r": {
     "delete_cmd_postfix": ") ",
     "delete_cmd_prefix": "rm(",
     "library": "var_list.r",
     "varRefreshCmd": "cat(var_dic_list()) "
    }
   },
   "types_to_exclude": [
    "module",
    "function",
    "builtin_function_or_method",
    "instance",
    "_Feature"
   ],
   "window_display": false
  }
 },
 "nbformat": 4,
 "nbformat_minor": 5
}

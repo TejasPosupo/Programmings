{
 "cells": [
  {
   "cell_type": "code",
   "execution_count": 1,
   "id": "2f7a1fbe",
   "metadata": {
    "ExecuteTime": {
     "end_time": "2023-04-15T04:57:17.138869Z",
     "start_time": "2023-04-15T04:56:40.107641Z"
    }
   },
   "outputs": [
    {
     "name": "stdout",
     "output_type": "stream",
     "text": [
      "enter the three digigt number153\n",
      "The given number is an Amstrong number\n"
     ]
    }
   ],
   "source": [
    "user_input = int(input('enter the three digigt number'))\n",
    "\n",
    "num = user_input\n",
    "\n",
    "a = num % 10\n",
    "\n",
    "num = num // 10\n",
    "\n",
    "b = num % 10\n",
    "\n",
    "c = num // 10\n",
    "\n",
    "if (a**3) + (b**3) + (c**3) == user_input:\n",
    "    \n",
    "    print('The given number is an Armstrong number')\n",
    "else:\n",
    "    print('The given number is not Armstrong number')"
   ]
  },
  {
   "cell_type": "code",
   "execution_count": null,
   "id": "a1ba1b9f",
   "metadata": {},
   "outputs": [],
   "source": []
  }
 ],
 "metadata": {
  "kernelspec": {
   "display_name": "Python 3 (ipykernel)",
   "language": "python",
   "name": "python3"
  },
  "language_info": {
   "codemirror_mode": {
    "name": "ipython",
    "version": 3
   },
   "file_extension": ".py",
   "mimetype": "text/x-python",
   "name": "python",
   "nbconvert_exporter": "python",
   "pygments_lexer": "ipython3",
   "version": "3.9.13"
  },
  "varInspector": {
   "cols": {
    "lenName": 16,
    "lenType": 16,
    "lenVar": 40
   },
   "kernels_config": {
    "python": {
     "delete_cmd_postfix": "",
     "delete_cmd_prefix": "del ",
     "library": "var_list.py",
     "varRefreshCmd": "print(var_dic_list())"
    },
    "r": {
     "delete_cmd_postfix": ") ",
     "delete_cmd_prefix": "rm(",
     "library": "var_list.r",
     "varRefreshCmd": "cat(var_dic_list()) "
    }
   },
   "types_to_exclude": [
    "module",
    "function",
    "builtin_function_or_method",
    "instance",
    "_Feature"
   ],
   "window_display": false
  }
 },
 "nbformat": 4,
 "nbformat_minor": 5
}

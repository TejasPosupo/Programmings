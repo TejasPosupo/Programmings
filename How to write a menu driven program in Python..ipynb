{
 "cells": [
  {
   "cell_type": "code",
   "execution_count": 11,
   "id": "d0f9b9e7",
   "metadata": {
    "ExecuteTime": {
     "end_time": "2023-04-16T04:15:20.191434Z",
     "start_time": "2023-04-16T04:15:14.404834Z"
    }
   },
   "outputs": [
    {
     "name": "stdout",
     "output_type": "stream",
     "text": [
      "Choose the option \n",
      "1. convert the cm to inchs\n",
      "2. convert the km to miles \n",
      "3. convert the inr to usd\n",
      "4. Exit \n",
      "3\n",
      "enter the value567\n",
      "your value in usd-  43449.21\n"
     ]
    }
   ],
   "source": [
    "user_input = int(input('''Choose the option \n",
    "1. convert the cm to inchs\n",
    "2. convert the km to miles \n",
    "3. convert the inr to usd\n",
    "4. Exit \\n'''))\n",
    "\n",
    "if user_input == 1:\n",
    "    Cm = float(input('enter the value'))\n",
    "    inch = Cm * 0.394\n",
    "    print('your value in inches- ', inch)\n",
    "    \n",
    "elif user_input == 2:\n",
    "    km = int(input('enter the value'))\n",
    "    miles = km * 0.621\n",
    "    print('your value in miles- ', miles)\n",
    "    \n",
    "elif user_input == 3:\n",
    "    inr = float(input('enter the value'))\n",
    "    usd = inr * 76.63\n",
    "    print('your value in usd- ', usd)\n",
    "    \n",
    "else:\n",
    "    print('Exit')\n",
    "    "
   ]
  },
  {
   "cell_type": "code",
   "execution_count": null,
   "id": "9a5452bc",
   "metadata": {},
   "outputs": [],
   "source": []
  },
  {
   "cell_type": "code",
   "execution_count": null,
   "id": "ba1fce3c",
   "metadata": {},
   "outputs": [],
   "source": []
  }
 ],
 "metadata": {
  "kernelspec": {
   "display_name": "Python 3 (ipykernel)",
   "language": "python",
   "name": "python3"
  },
  "language_info": {
   "codemirror_mode": {
    "name": "ipython",
    "version": 3
   },
   "file_extension": ".py",
   "mimetype": "text/x-python",
   "name": "python",
   "nbconvert_exporter": "python",
   "pygments_lexer": "ipython3",
   "version": "3.9.13"
  },
  "toc": {
   "base_numbering": 1,
   "nav_menu": {},
   "number_sections": true,
   "sideBar": true,
   "skip_h1_title": false,
   "title_cell": "Table of Contents",
   "title_sidebar": "Contents",
   "toc_cell": false,
   "toc_position": {},
   "toc_section_display": true,
   "toc_window_display": false
  },
  "varInspector": {
   "cols": {
    "lenName": 16,
    "lenType": 16,
    "lenVar": 40
   },
   "kernels_config": {
    "python": {
     "delete_cmd_postfix": "",
     "delete_cmd_prefix": "del ",
     "library": "var_list.py",
     "varRefreshCmd": "print(var_dic_list())"
    },
    "r": {
     "delete_cmd_postfix": ") ",
     "delete_cmd_prefix": "rm(",
     "library": "var_list.r",
     "varRefreshCmd": "cat(var_dic_list()) "
    }
   },
   "types_to_exclude": [
    "module",
    "function",
    "builtin_function_or_method",
    "instance",
    "_Feature"
   ],
   "window_display": false
  }
 },
 "nbformat": 4,
 "nbformat_minor": 5
}

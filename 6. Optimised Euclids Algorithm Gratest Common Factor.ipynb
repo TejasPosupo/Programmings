{
 "cells": [
  {
   "cell_type": "code",
   "execution_count": 1,
   "id": "8c8cd75d",
   "metadata": {
    "ExecuteTime": {
     "end_time": "2023-05-06T05:52:40.715809Z",
     "start_time": "2023-05-06T05:52:26.519755Z"
    }
   },
   "outputs": [
    {
     "name": "stdout",
     "output_type": "stream",
     "text": [
      "1733\n",
      "1333\n",
      "1\n"
     ]
    }
   ],
   "source": [
    "def euclid_gcd(a,b):\n",
    "    \n",
    "    while(a!=0 and b!=0):\n",
    "        if(a>b):\n",
    "            a = a%b\n",
    "        else:\n",
    "            b = b%a\n",
    "            \n",
    "    if (a!=0):\n",
    "        return a\n",
    "    else:\n",
    "        return b\n",
    "    \n",
    "def main():\n",
    "    a = int(input())\n",
    "    b = int(input())\n",
    "    print(euclid_gcd(a,b))\n",
    "    \n",
    "if __name__=='__main__':\n",
    "    main()"
   ]
  },
  {
   "cell_type": "markdown",
   "id": "c1ddde34",
   "metadata": {},
   "source": [
    "## "
   ]
  }
 ],
 "metadata": {
  "kernelspec": {
   "display_name": "Python 3 (ipykernel)",
   "language": "python",
   "name": "python3"
  },
  "language_info": {
   "codemirror_mode": {
    "name": "ipython",
    "version": 3
   },
   "file_extension": ".py",
   "mimetype": "text/x-python",
   "name": "python",
   "nbconvert_exporter": "python",
   "pygments_lexer": "ipython3",
   "version": "3.9.13"
  },
  "varInspector": {
   "cols": {
    "lenName": 16,
    "lenType": 16,
    "lenVar": 40
   },
   "kernels_config": {
    "python": {
     "delete_cmd_postfix": "",
     "delete_cmd_prefix": "del ",
     "library": "var_list.py",
     "varRefreshCmd": "print(var_dic_list())"
    },
    "r": {
     "delete_cmd_postfix": ") ",
     "delete_cmd_prefix": "rm(",
     "library": "var_list.r",
     "varRefreshCmd": "cat(var_dic_list()) "
    }
   },
   "types_to_exclude": [
    "module",
    "function",
    "builtin_function_or_method",
    "instance",
    "_Feature"
   ],
   "window_display": false
  }
 },
 "nbformat": 4,
 "nbformat_minor": 5
}

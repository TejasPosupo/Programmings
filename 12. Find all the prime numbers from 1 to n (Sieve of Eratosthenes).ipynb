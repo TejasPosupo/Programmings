{
 "cells": [
  {
   "cell_type": "code",
   "execution_count": 1,
   "id": "82e67acf",
   "metadata": {
    "ExecuteTime": {
     "end_time": "2023-05-08T05:26:19.791134Z",
     "start_time": "2023-05-08T05:26:14.150729Z"
    }
   },
   "outputs": [
    {
     "name": "stdout",
     "output_type": "stream",
     "text": [
      "10\n",
      "2\n",
      "3\n",
      "5\n",
      "7\n"
     ]
    }
   ],
   "source": [
    "import math\n",
    "def Sieve_of_Eratosthenes_primes(n):\n",
    "    prime = [False] * (n+1)\n",
    "    for i in range(2, int(math.sqrt(n))+1):\n",
    "        if prime[i]==False:\n",
    "            for j in range(i*i, n+1, i):\n",
    "                prime[j]=True\n",
    "                    \n",
    "    for i in range(2, n+1):\n",
    "        if(prime[i]==False):\n",
    "            print(i)\n",
    "            \n",
    "def main():\n",
    "    n = int(input())\n",
    "    Sieve_of_Eratosthenes_primes(n)\n",
    "    \n",
    "if __name__ == '__main__':\n",
    "    main()"
   ]
  },
  {
   "cell_type": "code",
   "execution_count": 3,
   "id": "0d6fd872",
   "metadata": {
    "ExecuteTime": {
     "end_time": "2023-05-08T05:26:28.344557Z",
     "start_time": "2023-05-08T05:26:25.908795Z"
    }
   },
   "outputs": [
    {
     "name": "stdout",
     "output_type": "stream",
     "text": [
      "10\n",
      "2\n",
      "3\n",
      "5\n",
      "7\n"
     ]
    }
   ],
   "source": [
    "def Sieve_of_Eratosthenes_primes(n):\n",
    "    prime = [False] * (n+1)\n",
    "    for i in range(2, n+1):\n",
    "        if prime[i]==False:\n",
    "            for j in range(i*i, n+1, i):\n",
    "                prime[j]=True\n",
    "                    \n",
    "    for i in range(2, n+1):\n",
    "        if(prime[i]==False):\n",
    "            print(i)\n",
    "            \n",
    "def main():\n",
    "    n = int(input())\n",
    "    Sieve_of_Eratosthenes_primes(n)\n",
    "    \n",
    "if __name__ == '__main__':\n",
    "    main()"
   ]
  },
  {
   "cell_type": "code",
   "execution_count": 4,
   "id": "c3515e25",
   "metadata": {
    "ExecuteTime": {
     "end_time": "2023-05-08T05:26:30.189052Z",
     "start_time": "2023-05-08T05:26:28.355541Z"
    }
   },
   "outputs": [
    {
     "name": "stdout",
     "output_type": "stream",
     "text": [
      "10\n",
      "2\n",
      "3\n",
      "5\n",
      "7\n"
     ]
    }
   ],
   "source": [
    "def Sieve_of_Eratosthenes_primes(n):\n",
    "    prime = [False] * (n+1)\n",
    "    for i in range(2, n+1):\n",
    "        if prime[i]==False:\n",
    "            for j in range(i*i, n+1, i):\n",
    "                prime[j]=True\n",
    "                    \n",
    "    for i in range(2, n+1):\n",
    "        if(prime[i]==False):\n",
    "            print(i)\n",
    "            \n",
    "def main():\n",
    "    n = int(input())\n",
    "    Sieve_of_Eratosthenes_primes(n)\n",
    "    \n",
    "if __name__ == '__main__':\n",
    "    main()"
   ]
  }
 ],
 "metadata": {
  "kernelspec": {
   "display_name": "Python 3 (ipykernel)",
   "language": "python",
   "name": "python3"
  },
  "language_info": {
   "codemirror_mode": {
    "name": "ipython",
    "version": 3
   },
   "file_extension": ".py",
   "mimetype": "text/x-python",
   "name": "python",
   "nbconvert_exporter": "python",
   "pygments_lexer": "ipython3",
   "version": "3.9.13"
  },
  "varInspector": {
   "cols": {
    "lenName": 16,
    "lenType": 16,
    "lenVar": 40
   },
   "kernels_config": {
    "python": {
     "delete_cmd_postfix": "",
     "delete_cmd_prefix": "del ",
     "library": "var_list.py",
     "varRefreshCmd": "print(var_dic_list())"
    },
    "r": {
     "delete_cmd_postfix": ") ",
     "delete_cmd_prefix": "rm(",
     "library": "var_list.r",
     "varRefreshCmd": "cat(var_dic_list()) "
    }
   },
   "types_to_exclude": [
    "module",
    "function",
    "builtin_function_or_method",
    "instance",
    "_Feature"
   ],
   "window_display": false
  }
 },
 "nbformat": 4,
 "nbformat_minor": 5
}

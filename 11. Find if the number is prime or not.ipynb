{
 "cells": [
  {
   "cell_type": "code",
   "execution_count": 4,
   "id": "a3f1791b",
   "metadata": {
    "ExecuteTime": {
     "end_time": "2023-05-07T08:26:12.976720Z",
     "start_time": "2023-05-07T08:26:10.417381Z"
    }
   },
   "outputs": [
    {
     "name": "stdout",
     "output_type": "stream",
     "text": [
      "8\n",
      "False\n"
     ]
    }
   ],
   "source": [
    "import math\n",
    "def is_Prime(n):\n",
    "    if(n==1):\n",
    "        return False\n",
    "    if (n==2 or n==3):\n",
    "        return True\n",
    "    if (n%2==0 or n%3==0):\n",
    "        return False\n",
    "    for i in range(5, int(math.sqrt(n))+1,6):\n",
    "        if(n%i==0 or n%(i+2)==0):\n",
    "            return False\n",
    "    return True\n",
    "def main():\n",
    "    n = int(input())\n",
    "    print(is_Prime(n))\n",
    "if __name__=='__main__':\n",
    "    main()"
   ]
  },
  {
   "cell_type": "code",
   "execution_count": null,
   "id": "107cfd60",
   "metadata": {},
   "outputs": [],
   "source": []
  },
  {
   "cell_type": "code",
   "execution_count": null,
   "id": "e83b7dec",
   "metadata": {},
   "outputs": [],
   "source": []
  }
 ],
 "metadata": {
  "kernelspec": {
   "display_name": "Python 3 (ipykernel)",
   "language": "python",
   "name": "python3"
  },
  "language_info": {
   "codemirror_mode": {
    "name": "ipython",
    "version": 3
   },
   "file_extension": ".py",
   "mimetype": "text/x-python",
   "name": "python",
   "nbconvert_exporter": "python",
   "pygments_lexer": "ipython3",
   "version": "3.9.13"
  },
  "varInspector": {
   "cols": {
    "lenName": 16,
    "lenType": 16,
    "lenVar": 40
   },
   "kernels_config": {
    "python": {
     "delete_cmd_postfix": "",
     "delete_cmd_prefix": "del ",
     "library": "var_list.py",
     "varRefreshCmd": "print(var_dic_list())"
    },
    "r": {
     "delete_cmd_postfix": ") ",
     "delete_cmd_prefix": "rm(",
     "library": "var_list.r",
     "varRefreshCmd": "cat(var_dic_list()) "
    }
   },
   "types_to_exclude": [
    "module",
    "function",
    "builtin_function_or_method",
    "instance",
    "_Feature"
   ],
   "window_display": false
  }
 },
 "nbformat": 4,
 "nbformat_minor": 5
}

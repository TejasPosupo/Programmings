{
 "cells": [
  {
   "cell_type": "code",
   "execution_count": 1,
   "id": "09e0ff3b",
   "metadata": {
    "ExecuteTime": {
     "end_time": "2023-04-13T06:12:43.407293Z",
     "start_time": "2023-04-13T06:12:31.980388Z"
    }
   },
   "outputs": [
    {
     "name": "stdout",
     "output_type": "stream",
     "text": [
      "enter the x1 cod45\n",
      "enter the x2 cod56\n",
      "enter the y1 cod67\n",
      "enter the y2 cod78\n",
      "15.556349186104045\n"
     ]
    }
   ],
   "source": [
    "x1 = int(input('enter the x1 cod'))\n",
    "x2 = int(input('enter the x2 cod'))\n",
    "y1 = int(input('enter the y1 cod'))\n",
    "y2 = int(input('enter the y2 cod'))\n",
    "\n",
    "d = ((x2-x1)**2 + (y2-y1)**2)**0.5\n",
    "print(d)"
   ]
  },
  {
   "cell_type": "code",
   "execution_count": null,
   "id": "a6431dff",
   "metadata": {},
   "outputs": [],
   "source": []
  }
 ],
 "metadata": {
  "kernelspec": {
   "display_name": "Python 3 (ipykernel)",
   "language": "python",
   "name": "python3"
  },
  "language_info": {
   "codemirror_mode": {
    "name": "ipython",
    "version": 3
   },
   "file_extension": ".py",
   "mimetype": "text/x-python",
   "name": "python",
   "nbconvert_exporter": "python",
   "pygments_lexer": "ipython3",
   "version": "3.9.13"
  },
  "varInspector": {
   "cols": {
    "lenName": 16,
    "lenType": 16,
    "lenVar": 40
   },
   "kernels_config": {
    "python": {
     "delete_cmd_postfix": "",
     "delete_cmd_prefix": "del ",
     "library": "var_list.py",
     "varRefreshCmd": "print(var_dic_list())"
    },
    "r": {
     "delete_cmd_postfix": ") ",
     "delete_cmd_prefix": "rm(",
     "library": "var_list.r",
     "varRefreshCmd": "cat(var_dic_list()) "
    }
   },
   "types_to_exclude": [
    "module",
    "function",
    "builtin_function_or_method",
    "instance",
    "_Feature"
   ],
   "window_display": false
  }
 },
 "nbformat": 4,
 "nbformat_minor": 5
}

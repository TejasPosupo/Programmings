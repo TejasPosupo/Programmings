{
 "cells": [
  {
   "cell_type": "code",
   "execution_count": 6,
   "id": "6b0889c0",
   "metadata": {
    "ExecuteTime": {
     "end_time": "2023-05-10T05:47:24.883455Z",
     "start_time": "2023-05-10T05:47:16.583583Z"
    }
   },
   "outputs": [
    {
     "name": "stdout",
     "output_type": "stream",
     "text": [
      "8919016188\n",
      "1000010011100111010110001011111100\n",
      "8919016188\n"
     ]
    }
   ],
   "source": [
    "def decimal_to_binary(n):\n",
    "    b = ''\n",
    "    while n>=1:\n",
    "        x = n%2\n",
    "        n = n//2\n",
    "        b = str(x) + b\n",
    "    return b\n",
    "\n",
    "def binary_to_decimal(b):\n",
    "    result = 0\n",
    "    pow_2 = 1\n",
    "    \n",
    "    for i in range(len(b)-1, -1, -1):\n",
    "        if(b[i]=='1'):\n",
    "            result = result + pow_2\n",
    "        pow_2 = pow_2 * 2\n",
    "    return result\n",
    "\n",
    "def main():\n",
    "    n = int(input())\n",
    "    b = decimal_to_binary(n)\n",
    "    print(b)\n",
    "    print(binary_to_decimal(b))\n",
    "    \n",
    "if __name__ == '__main__':\n",
    "    main()"
   ]
  },
  {
   "cell_type": "code",
   "execution_count": null,
   "id": "b1cf23da",
   "metadata": {},
   "outputs": [],
   "source": []
  }
 ],
 "metadata": {
  "kernelspec": {
   "display_name": "Python 3 (ipykernel)",
   "language": "python",
   "name": "python3"
  },
  "language_info": {
   "codemirror_mode": {
    "name": "ipython",
    "version": 3
   },
   "file_extension": ".py",
   "mimetype": "text/x-python",
   "name": "python",
   "nbconvert_exporter": "python",
   "pygments_lexer": "ipython3",
   "version": "3.9.13"
  },
  "varInspector": {
   "cols": {
    "lenName": 16,
    "lenType": 16,
    "lenVar": 40
   },
   "kernels_config": {
    "python": {
     "delete_cmd_postfix": "",
     "delete_cmd_prefix": "del ",
     "library": "var_list.py",
     "varRefreshCmd": "print(var_dic_list())"
    },
    "r": {
     "delete_cmd_postfix": ") ",
     "delete_cmd_prefix": "rm(",
     "library": "var_list.r",
     "varRefreshCmd": "cat(var_dic_list()) "
    }
   },
   "types_to_exclude": [
    "module",
    "function",
    "builtin_function_or_method",
    "instance",
    "_Feature"
   ],
   "window_display": false
  }
 },
 "nbformat": 4,
 "nbformat_minor": 5
}

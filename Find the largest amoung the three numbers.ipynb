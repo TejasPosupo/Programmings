{
 "cells": [
  {
   "cell_type": "code",
   "execution_count": 3,
   "id": "9f000ac7",
   "metadata": {
    "ExecuteTime": {
     "end_time": "2023-04-11T04:53:13.831820Z",
     "start_time": "2023-04-11T04:53:07.164840Z"
    }
   },
   "outputs": [
    {
     "name": "stdout",
     "output_type": "stream",
     "text": [
      "enter the first number35\n",
      "enter the second number76\n",
      "enter the third number89\n",
      "The Largest number is  89\n"
     ]
    }
   ],
   "source": [
    "a = int(input('enter the first number'))\n",
    "b = int(input('enter the second number'))\n",
    "c = int(input('enter the third number'))\n",
    "\n",
    "num = a\n",
    "\n",
    "if num < a:\n",
    "    num = b\n",
    "if num < c:\n",
    "    num = c\n",
    "print(\"The Largest number is \",num)"
   ]
  },
  {
   "cell_type": "code",
   "execution_count": null,
   "id": "92c72bc0",
   "metadata": {},
   "outputs": [],
   "source": []
  }
 ],
 "metadata": {
  "kernelspec": {
   "display_name": "Python 3 (ipykernel)",
   "language": "python",
   "name": "python3"
  },
  "language_info": {
   "codemirror_mode": {
    "name": "ipython",
    "version": 3
   },
   "file_extension": ".py",
   "mimetype": "text/x-python",
   "name": "python",
   "nbconvert_exporter": "python",
   "pygments_lexer": "ipython3",
   "version": "3.9.13"
  },
  "varInspector": {
   "cols": {
    "lenName": 16,
    "lenType": 16,
    "lenVar": 40
   },
   "kernels_config": {
    "python": {
     "delete_cmd_postfix": "",
     "delete_cmd_prefix": "del ",
     "library": "var_list.py",
     "varRefreshCmd": "print(var_dic_list())"
    },
    "r": {
     "delete_cmd_postfix": ") ",
     "delete_cmd_prefix": "rm(",
     "library": "var_list.r",
     "varRefreshCmd": "cat(var_dic_list()) "
    }
   },
   "types_to_exclude": [
    "module",
    "function",
    "builtin_function_or_method",
    "instance",
    "_Feature"
   ],
   "window_display": false
  }
 },
 "nbformat": 4,
 "nbformat_minor": 5
}

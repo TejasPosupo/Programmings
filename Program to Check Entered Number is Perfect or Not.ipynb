{
 "cells": [
  {
   "cell_type": "code",
   "execution_count": 3,
   "id": "48da5466",
   "metadata": {
    "ExecuteTime": {
     "end_time": "2023-04-30T05:09:21.101386Z",
     "start_time": "2023-04-30T05:09:19.508697Z"
    }
   },
   "outputs": [
    {
     "name": "stdout",
     "output_type": "stream",
     "text": [
      "enter the number7\n",
      "7  is not a perfect number\n"
     ]
    }
   ],
   "source": [
    "num = int(input('enter the number'))\n",
    "result = 0\n",
    "for i in range(1,num):\n",
    "    if num%i == 0:\n",
    "        result = result+i\n",
    "if result == num:\n",
    "    print(num , ' is a perfect number')\n",
    "else:\n",
    "    print(num ,' is not a perfect number')"
   ]
  },
  {
   "cell_type": "code",
   "execution_count": null,
   "id": "bd53e6ce",
   "metadata": {},
   "outputs": [],
   "source": []
  }
 ],
 "metadata": {
  "kernelspec": {
   "display_name": "Python 3 (ipykernel)",
   "language": "python",
   "name": "python3"
  },
  "language_info": {
   "codemirror_mode": {
    "name": "ipython",
    "version": 3
   },
   "file_extension": ".py",
   "mimetype": "text/x-python",
   "name": "python",
   "nbconvert_exporter": "python",
   "pygments_lexer": "ipython3",
   "version": "3.9.13"
  },
  "varInspector": {
   "cols": {
    "lenName": 16,
    "lenType": 16,
    "lenVar": 40
   },
   "kernels_config": {
    "python": {
     "delete_cmd_postfix": "",
     "delete_cmd_prefix": "del ",
     "library": "var_list.py",
     "varRefreshCmd": "print(var_dic_list())"
    },
    "r": {
     "delete_cmd_postfix": ") ",
     "delete_cmd_prefix": "rm(",
     "library": "var_list.r",
     "varRefreshCmd": "cat(var_dic_list()) "
    }
   },
   "types_to_exclude": [
    "module",
    "function",
    "builtin_function_or_method",
    "instance",
    "_Feature"
   ],
   "window_display": false
  }
 },
 "nbformat": 4,
 "nbformat_minor": 5
}

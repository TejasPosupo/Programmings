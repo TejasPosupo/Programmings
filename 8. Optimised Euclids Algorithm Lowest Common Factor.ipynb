{
 "cells": [
  {
   "cell_type": "code",
   "execution_count": 1,
   "id": "c1d583f7",
   "metadata": {
    "ExecuteTime": {
     "end_time": "2023-05-06T06:22:42.645607Z",
     "start_time": "2023-05-06T06:22:26.019135Z"
    }
   },
   "outputs": [
    {
     "name": "stdout",
     "output_type": "stream",
     "text": [
      "7\n",
      "3\n",
      "21.0\n"
     ]
    }
   ],
   "source": [
    "def euclid_gcd(a,b):\n",
    "    \n",
    "    while(a!=0 and b!=0):\n",
    "        if(a>b):\n",
    "            a = a%b\n",
    "        else:\n",
    "            b = b%a\n",
    "            \n",
    "    if (a!=0):\n",
    "        return a\n",
    "    else:\n",
    "        return b\n",
    "    \n",
    "def main():\n",
    "    a = int(input())\n",
    "    b = int(input())\n",
    "    euclid_gcd(a,b)\n",
    "    \n",
    "    \n",
    "def lcm(a,b):\n",
    "    return (a*b)/euclid_gcd(a,b)\n",
    "\n",
    "def main():\n",
    "    a = int(input())\n",
    "    b = int(input())\n",
    "    print(lcm(a,b))\n",
    "    \n",
    "if __name__=='__main__':\n",
    "    main()\n",
    "    \n",
    "    \n",
    "    "
   ]
  },
  {
   "cell_type": "code",
   "execution_count": null,
   "id": "35aceed4",
   "metadata": {},
   "outputs": [],
   "source": []
  }
 ],
 "metadata": {
  "kernelspec": {
   "display_name": "Python 3 (ipykernel)",
   "language": "python",
   "name": "python3"
  },
  "language_info": {
   "codemirror_mode": {
    "name": "ipython",
    "version": 3
   },
   "file_extension": ".py",
   "mimetype": "text/x-python",
   "name": "python",
   "nbconvert_exporter": "python",
   "pygments_lexer": "ipython3",
   "version": "3.9.13"
  },
  "varInspector": {
   "cols": {
    "lenName": 16,
    "lenType": 16,
    "lenVar": 40
   },
   "kernels_config": {
    "python": {
     "delete_cmd_postfix": "",
     "delete_cmd_prefix": "del ",
     "library": "var_list.py",
     "varRefreshCmd": "print(var_dic_list())"
    },
    "r": {
     "delete_cmd_postfix": ") ",
     "delete_cmd_prefix": "rm(",
     "library": "var_list.r",
     "varRefreshCmd": "cat(var_dic_list()) "
    }
   },
   "types_to_exclude": [
    "module",
    "function",
    "builtin_function_or_method",
    "instance",
    "_Feature"
   ],
   "window_display": false
  }
 },
 "nbformat": 4,
 "nbformat_minor": 5
}

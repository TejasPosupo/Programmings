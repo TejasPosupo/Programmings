{
 "cells": [
  {
   "cell_type": "code",
   "execution_count": 6,
   "id": "7b71fce9",
   "metadata": {
    "ExecuteTime": {
     "end_time": "2023-04-13T06:26:50.265600Z",
     "start_time": "2023-04-13T06:26:43.153895Z"
    }
   },
   "outputs": [
    {
     "name": "stdout",
     "output_type": "stream",
     "text": [
      "enter the frist angle89\n",
      "enter the second angle90\n",
      "enter the third angle0\n",
      "not possible\n"
     ]
    }
   ],
   "source": [
    "a = int(input('enter the frist angle'))\n",
    "b = int(input('enter the second angle'))\n",
    "c = int(input('enter the third angle'))\n",
    "\n",
    "if a + b + c == 180 | a!= 0 | b!= 0 | c!= 0:\n",
    "    print('possible')\n",
    "else:\n",
    "    print('not possible')"
   ]
  },
  {
   "cell_type": "code",
   "execution_count": null,
   "id": "dbac4f1e",
   "metadata": {},
   "outputs": [],
   "source": []
  }
 ],
 "metadata": {
  "kernelspec": {
   "display_name": "Python 3 (ipykernel)",
   "language": "python",
   "name": "python3"
  },
  "language_info": {
   "codemirror_mode": {
    "name": "ipython",
    "version": 3
   },
   "file_extension": ".py",
   "mimetype": "text/x-python",
   "name": "python",
   "nbconvert_exporter": "python",
   "pygments_lexer": "ipython3",
   "version": "3.9.13"
  },
  "varInspector": {
   "cols": {
    "lenName": 16,
    "lenType": 16,
    "lenVar": 40
   },
   "kernels_config": {
    "python": {
     "delete_cmd_postfix": "",
     "delete_cmd_prefix": "del ",
     "library": "var_list.py",
     "varRefreshCmd": "print(var_dic_list())"
    },
    "r": {
     "delete_cmd_postfix": ") ",
     "delete_cmd_prefix": "rm(",
     "library": "var_list.r",
     "varRefreshCmd": "cat(var_dic_list()) "
    }
   },
   "types_to_exclude": [
    "module",
    "function",
    "builtin_function_or_method",
    "instance",
    "_Feature"
   ],
   "window_display": false
  }
 },
 "nbformat": 4,
 "nbformat_minor": 5
}

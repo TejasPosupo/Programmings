{
 "cells": [
  {
   "cell_type": "code",
   "execution_count": 1,
   "id": "da6ad91f",
   "metadata": {
    "ExecuteTime": {
     "end_time": "2023-04-30T04:50:09.082026Z",
     "start_time": "2023-04-30T04:50:05.919990Z"
    }
   },
   "outputs": [
    {
     "name": "stdout",
     "output_type": "stream",
     "text": [
      "enter the number of rows10\n",
      "         *         \n",
      "        * *        \n",
      "       *   *       \n",
      "      *     *      \n",
      "     *       *     \n",
      "    *         *    \n",
      "   *           *   \n",
      "  *             *  \n",
      " *               * \n",
      "*******************\n"
     ]
    }
   ],
   "source": [
    "n = int(input('enter the number of rows'))\n",
    "for row in range(1,n+1):\n",
    "    for col in range(1, 2*n):\n",
    "        if row ==  n or row + col == n+1 or col - row == n-1:\n",
    "            print('*', end='')\n",
    "        else:\n",
    "            print(end=' ')\n",
    "    print()"
   ]
  },
  {
   "cell_type": "code",
   "execution_count": null,
   "id": "e65dbc2a",
   "metadata": {},
   "outputs": [],
   "source": []
  }
 ],
 "metadata": {
  "kernelspec": {
   "display_name": "Python 3 (ipykernel)",
   "language": "python",
   "name": "python3"
  },
  "language_info": {
   "codemirror_mode": {
    "name": "ipython",
    "version": 3
   },
   "file_extension": ".py",
   "mimetype": "text/x-python",
   "name": "python",
   "nbconvert_exporter": "python",
   "pygments_lexer": "ipython3",
   "version": "3.9.13"
  },
  "varInspector": {
   "cols": {
    "lenName": 16,
    "lenType": 16,
    "lenVar": 40
   },
   "kernels_config": {
    "python": {
     "delete_cmd_postfix": "",
     "delete_cmd_prefix": "del ",
     "library": "var_list.py",
     "varRefreshCmd": "print(var_dic_list())"
    },
    "r": {
     "delete_cmd_postfix": ") ",
     "delete_cmd_prefix": "rm(",
     "library": "var_list.r",
     "varRefreshCmd": "cat(var_dic_list()) "
    }
   },
   "types_to_exclude": [
    "module",
    "function",
    "builtin_function_or_method",
    "instance",
    "_Feature"
   ],
   "window_display": false
  }
 },
 "nbformat": 4,
 "nbformat_minor": 5
}
